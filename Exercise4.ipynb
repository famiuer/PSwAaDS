{
 "cells": [
  {
   "cell_type": "code",
   "execution_count": null,
   "metadata": {},
   "outputs": [],
   "source": [
    "# 4-1\n",
    "\n",
    "from turtle import *\n",
    "myTurtle = Turtle()\n",
    "\n",
    "myWin = myTurtle.getscreen()\n",
    "\n",
    "def drawSprial(myTurtule, lineLen):\n",
    "    if lineLen > 0:\n",
    "        myTurtle.forward(lineLen)\n",
    "        myTurtle.right(90)\n",
    "        drawSprial(myTurtle, lineLen-5)\n",
    "\n",
    "\n",
    "drawSprial(myTurtle,100)\n",
    "myWin.exitonclick()\n",
    "\n"
   ]
  },
  {
   "cell_type": "code",
   "execution_count": 3,
   "metadata": {},
   "outputs": [],
   "source": [
    "# 4-6\n",
    "def tree(branchLen, t):\n",
    "    if branchLen > 5:\n",
    "        t.forward(branchLen)\n",
    "        t.right(20)\n",
    "        tree(branchLen - 15, t)\n",
    "        t.left(40)\n",
    "        tree(branchLen - 10, t)\n",
    "        t.right(20)\n",
    "        t.backward(branchLen)\n",
    "\n",
    "        "
   ]
  },
  {
   "cell_type": "code",
   "execution_count": 5,
   "metadata": {},
   "outputs": [],
   "source": [
    "from turtle import *\n",
    "t = Turtle()\n",
    "myWin = t.getscreen()\n",
    "t.left(90)\n",
    "t.up()\n",
    "t.backward(300)\n",
    "t.down()\n",
    "t.color('green')\n",
    "tree(110,t)\n",
    "myWin.exitonclick()"
   ]
  },
  {
   "cell_type": "code",
   "execution_count": 1,
   "metadata": {},
   "outputs": [],
   "source": [
    "# 4 - 7\n",
    "from turtle import *\n",
    "\n",
    "def drawTriangle(points, color, myTurtle):\n",
    "    myTurtle.fillcolor(color)\n",
    "    myTurtle.up()\n",
    "    myTurtle.goto(points[0])\n",
    "    myTurtle.down()\n",
    "    myTurtle.begin_fill()\n",
    "    myTurtle.goto(points[1])\n",
    "    myTurtle.goto(points[2])\n",
    "    myTurtle.goto(points[0])\n",
    "    myTurtle.end_fill()\n",
    "\n",
    "def getMid(p1 , p2):\n",
    "    return ((p1[0] + p2[0]) / 2, (p1[1] + p2[1]) / 2)\n",
    "\n",
    "def sierpinski(points,degree, myTurtle):\n",
    "    colormap = ['blue', 'red', 'green', 'white', 'yellow',\n",
    "                'violet', 'orange']\n",
    "    drawTriangle(points, colormap[degree], myTurtle)\n",
    "\n",
    "    if degree > 0 :\n",
    "        sierpinski([points[0],\n",
    "                        getMid(points[0], points[1]),\n",
    "                        getMid(points[0], points[2])],\n",
    "                        degree -1 , myTurtle)\n",
    "        sierpinski([points[1],\n",
    "                        getMid(points[0], points[1]),\n",
    "                        getMid(points[1], points[2])],\n",
    "                        degree -1 , myTurtle)\n",
    "        sierpinski([points[2],\n",
    "                        getMid(points[2], points[1]),\n",
    "                        getMid(points[0], points[2])],\n",
    "                        degree -1 , myTurtle)\n",
    "\n",
    "myTurtle = Turtle()\n",
    "myWin = myTurtle.getscreen()\n",
    "myPoints = [(-500, -250), (0 , 500), (500, -250)]\n",
    "\n",
    "sierpinski(myPoints, 5, myTurtle)\n",
    "\n",
    "myWin.exitonclick()\n"
   ]
  },
  {
   "cell_type": "code",
   "execution_count": null,
   "metadata": {},
   "outputs": [],
   "source": []
  }
 ],
 "metadata": {
  "kernelspec": {
   "display_name": "Python 3.9.7 ('metocean')",
   "language": "python",
   "name": "python3"
  },
  "language_info": {
   "codemirror_mode": {
    "name": "ipython",
    "version": 3
   },
   "file_extension": ".py",
   "mimetype": "text/x-python",
   "name": "python",
   "nbconvert_exporter": "python",
   "pygments_lexer": "ipython3",
   "version": "3.9.7"
  },
  "orig_nbformat": 4,
  "vscode": {
   "interpreter": {
    "hash": "2f05be206db1918f0cf0a5f6f3e99fbb4f45750da8b46b2c3ac9e252e1988b90"
   }
  }
 },
 "nbformat": 4,
 "nbformat_minor": 2
}
