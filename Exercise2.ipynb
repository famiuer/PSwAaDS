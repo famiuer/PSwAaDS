{
 "cells": [
  {
   "cell_type": "markdown",
   "metadata": {},
   "source": [
    "# Chapter 2"
   ]
  },
  {
   "cell_type": "markdown",
   "metadata": {},
   "source": [
    "## list"
   ]
  },
  {
   "cell_type": "code",
   "execution_count": null,
   "metadata": {},
   "outputs": [],
   "source": [
    "import time\n",
    "import timeit\n",
    "\n",
    "popzero = timeit.Timer(\"x.pop(0)\", \"from __main__ import x\" )\n",
    "\n",
    "\n",
    "popend = timeit.Timer(\"x.pop()\", \"from __main__ import x\" )\n",
    "\n",
    "print(\"pop(0) pop()\")\n",
    "ptseris = []\n",
    "pzseris = []\n",
    "for i in range(1000000,20000000,2000000):\n",
    "    x = list(range(i))\n",
    "    pt = popend.timeit(number=1000)\n",
    "    x  = list(range(i))\n",
    "    pz = popzero.timeit(number=1000)\n",
    "    ptseris.append(pt)\n",
    "    pzseris.append(pz)\n",
    "    print(\"%15.5f, %15.5f\" % (pz, pt))\n",
    "\n",
    "\n"
   ]
  },
  {
   "cell_type": "code",
   "execution_count": null,
   "metadata": {},
   "outputs": [],
   "source": [
    "\n",
    "import matplotlib.pyplot as plt\n",
    "\n",
    "xaxis = list(range(1000000,20000000,2000000))\n",
    "plt.plot(xaxis,ptseris,label='pop(0)')\n",
    "plt.plot(xaxis,pzseris,label='pop(z)')\n",
    "plt.legend()"
   ]
  },
  {
   "cell_type": "markdown",
   "metadata": {},
   "source": [
    "## Dictionary\n"
   ]
  },
  {
   "cell_type": "code",
   "execution_count": null,
   "metadata": {},
   "outputs": [],
   "source": [
    "import timeit\n",
    "import random\n",
    "\n",
    "lst_timeseries = []\n",
    "d_timeseries = []\n",
    "\n",
    "for i in range(10000, 1000001, 100000):\n",
    "    t = timeit.Timer(\"random.randrange(%d) in x\" %i, \"from __main__ import random, x\")\n",
    "    x = list(range(i))\n",
    "    lst_time = t.timeit(number=1000)\n",
    "    lst_timeseries.append(lst_time)\n",
    "    x = {j:None for j in range(i)}\n",
    "    d_time = t.timeit(number=1000)\n",
    "    d_timeseries.append(d_time)\n",
    "    print(\"%d, %10.3f, %10.3f\" % (i, lst_time, d_time))\n",
    "\n"
   ]
  },
  {
   "cell_type": "code",
   "execution_count": null,
   "metadata": {},
   "outputs": [],
   "source": [
    "\n",
    "import matplotlib.pyplot as plt\n",
    "\n",
    "xaxis = list(range(10000, 1000001, 100000))\n",
    "plt.plot(xaxis,lst_timeseries,label='List')\n",
    "plt.plot(xaxis,d_timeseries,label='Dict')\n",
    "plt.legend()"
   ]
  },
  {
   "cell_type": "markdown",
   "metadata": {},
   "source": [
    "## Ex 1 List index "
   ]
  },
  {
   "cell_type": "code",
   "execution_count": null,
   "metadata": {},
   "outputs": [],
   "source": [
    "import timeit\n",
    "import random\n",
    "\n",
    "lst_timeseries = []\n",
    "\n",
    "for i in range(10000, 1000001, 100000):\n",
    "    t = timeit.Timer(\"x.index(random.randrange(%d))\" %i, \"from __main__ import random, x\")\n",
    "    x = list(range(i))\n",
    "    lst_time = t.timeit(number=1000)\n",
    "    lst_timeseries.append(lst_time)\n",
    "\n",
    "    print(\"%d, %10.3f\" % (i, lst_time))\n",
    "\n"
   ]
  },
  {
   "cell_type": "code",
   "execution_count": null,
   "metadata": {},
   "outputs": [],
   "source": [
    "\n",
    "import matplotlib.pyplot as plt\n",
    "\n",
    "xaxis = list(range(10000, 1000001, 100000))\n",
    "plt.plot(xaxis,lst_timeseries,label='List index')\n",
    "# plt.plot(xaxis,d_timeseries,label='Dict')\n",
    "plt.legend()"
   ]
  },
  {
   "cell_type": "markdown",
   "metadata": {},
   "source": [
    "## Ex 2 Dictionary values"
   ]
  },
  {
   "cell_type": "code",
   "execution_count": null,
   "metadata": {},
   "outputs": [],
   "source": [
    "import timeit\n",
    "import random\n",
    "\n",
    "tread_time_series = []\n",
    "twrite_time_series = []\n",
    "\n",
    "for i in range(10000, 1000001, 50000):\n",
    "    twrite = timeit.Timer(\"x[random.randrange(%d)] = random.random()\" %i, \"from __main__ import random, x\")\n",
    "    tread = timeit.Timer(\"a = x[random.randrange(%d)]\" %i, \"from __main__ import random, x\")\n",
    "  \n",
    "  \n",
    "    x = {j:None for j in range(i)}\n",
    "    tread_time = tread.timeit(number=1000)\n",
    "    tread_time_series.append(tread_time)\n",
    "    \n",
    "    twrite_time = twrite.timeit(number=1000)\n",
    "    twrite_time_series.append(tread_time)\n",
    "    print(\"%d, %10.3f, %10.3f\" % (i, tread_time,twrite_time))\n",
    "\n"
   ]
  },
  {
   "cell_type": "code",
   "execution_count": null,
   "metadata": {},
   "outputs": [],
   "source": [
    "\n",
    "import matplotlib.pyplot as plt\n",
    "\n",
    "xaxis = list(range(10000, 1000001, 50000))\n",
    "plt.plot(xaxis,tread_time_series,label='Dictionary read')\n",
    "plt.plot(xaxis,twrite_time_series,label='Dictionary write')\n",
    "plt.legend()"
   ]
  },
  {
   "cell_type": "markdown",
   "metadata": {},
   "source": [
    "## Ex 3 Dictionary & list del performance"
   ]
  },
  {
   "cell_type": "code",
   "execution_count": null,
   "metadata": {},
   "outputs": [],
   "source": [
    "import timeit\n",
    "import random\n",
    "\n",
    "lst_timeseries = []\n",
    "d_timeseries = []\n",
    "\n",
    "for i in range(10000, 1000001, 100000):\n",
    "    tdic_del = timeit.Timer(\"del x[random.randrange(%d)]\" %i, \"from __main__ import random, x\")\n",
    "    tlic_del = timeit.Timer(\"del x[random.randrange(%d)]\" %i, \"from __main__ import random, x\")\n",
    "    \n",
    "    x = list(range(i))\n",
    "    lst_time = tlic_del.timeit(number=1000)\n",
    "    lst_timeseries.append(lst_time)\n",
    "    \n",
    "    x = {j:j for j in range(i)}\n",
    "    d_time = tdic_del.timeit(number=1000)\n",
    "    d_timeseries.append(d_time)\n",
    "    print(\"%d, %10.3f, %10.3f\" % (i, lst_time, d_time))\n",
    "\n"
   ]
  },
  {
   "cell_type": "code",
   "execution_count": null,
   "metadata": {},
   "outputs": [],
   "source": []
  },
  {
   "cell_type": "code",
   "execution_count": null,
   "metadata": {},
   "outputs": [],
   "source": []
  },
  {
   "cell_type": "code",
   "execution_count": null,
   "metadata": {},
   "outputs": [],
   "source": []
  }
 ],
 "metadata": {
  "kernelspec": {
   "display_name": "Python 3.9.7 ('metocean')",
   "language": "python",
   "name": "python3"
  },
  "language_info": {
   "codemirror_mode": {
    "name": "ipython",
    "version": 3
   },
   "file_extension": ".py",
   "mimetype": "text/x-python",
   "name": "python",
   "nbconvert_exporter": "python",
   "pygments_lexer": "ipython3",
   "version": "3.9.7"
  },
  "orig_nbformat": 4,
  "vscode": {
   "interpreter": {
    "hash": "2f05be206db1918f0cf0a5f6f3e99fbb4f45750da8b46b2c3ac9e252e1988b90"
   }
  }
 },
 "nbformat": 4,
 "nbformat_minor": 2
}
